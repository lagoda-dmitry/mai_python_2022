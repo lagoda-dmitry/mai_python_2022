{
 "cells": [
  {
   "cell_type": "code",
   "execution_count": 16,
   "id": "c7ebcbff",
   "metadata": {},
   "outputs": [],
   "source": [
    "import json\n",
    "from pprint import pprint\n",
    "import operator"
   ]
  },
  {
   "cell_type": "code",
   "execution_count": 25,
   "id": "b5a6c380",
   "metadata": {},
   "outputs": [],
   "source": [
    "# Напоминание: вам понадобится материал лекций:\n",
    "# 3 - Списки и кортежи\n",
    "# 4 - Словари и множества\n",
    "# 7 и 8 - Классы\n",
    "# 9 - Работа с файлами\n",
    "\n",
    "# =====================================\n",
    "# ЗАДАНИЕ 1: Работа с файлами\n",
    "# =====================================\n",
    "# TODO 1-1\n",
    "#  Прочитайте данные из файла pilot_path.json (лекция 9)\n",
    "\n",
    "# ВАШ КОД:\n",
    "\n",
    "with open('pilot_path.json', 'r+') as f:\n",
    "    json_data = json.load(f)\n",
    "\n"
   ]
  },
  {
   "cell_type": "code",
   "execution_count": 26,
   "id": "0fd98f4f",
   "metadata": {},
   "outputs": [
    {
     "name": "stdout",
     "output_type": "stream",
     "text": [
      "Пилоты в порядке убывания количества миссий: {'pilot3': 6, 'pilot8': 6, 'pilot6': 5, 'pilot2': 5, 'pilot7': 4, 'pilot9': 3, 'pilot5': 3, 'pilot4': 2, 'pilot1': 1}\n"
     ]
    }
   ],
   "source": [
    "\n",
    "# =====================================\n",
    "# ЗАДАНИЕ 2: Расчет статистик\n",
    "# =====================================\n",
    "# TODO 2-1) Подсчитайте, сколько миссий налетал каждый пилот. Выведите результат в порядке убывания миссий\n",
    "# ИНФОРМАЦИЯ:\n",
    "# структура данных в файле: {\"имя_пилота\": \"список_миссий\":[миссия1, ...]]\n",
    "# структура одной миссии: {\"drone\":\"модель_дрона\", \"mission\":[список точек миссии]}\n",
    "# у пилотов неодинаковое количество миссий (и миссии могут быть разной длины). у каждой миссии - произвольная модель дрона\n",
    "\n",
    "# РЕЗУЛЬТАТ:\n",
    "# Пилоты в порядке убывания количества миссий: {'pilot3': 6, 'pilot8': 6, 'pilot6': 5, 'pilot2': 5, 'pilot7': 4, 'pilot9': 3, 'pilot5': 3, 'pilot4': 2, 'pilot1': 1}\n",
    "\n",
    "# ВАШ КОД:\n",
    "mission_dict = {}\n",
    "\n",
    "for pilot in json_data:\n",
    "    mission_dict[pilot] = len(json_data[pilot]['missions'])\n",
    "# подсказка: готовый код нужной вам сортировки есть здесь (Sample Solution-1:): https://www.w3resource.com/python-exercises/dictionary/python-data-type-dictionary-exercise-1.php\n",
    "\n",
    "\n",
    "\n",
    "# подсказка: готовый код нужной вам сортировки есть здесь (Sample Solution-1:): https://www.w3resource.com/python-exercises/dictionary/python-data-type-dictionary-exercise-1.php\n",
    "print(f\"Пилоты в порядке убывания количества миссий: {dict(sorted(mission_dict.items(), key=lambda item: item[1], reverse=True))}\")\n",
    "\n"
   ]
  },
  {
   "cell_type": "code",
   "execution_count": 27,
   "id": "16bbcae7",
   "metadata": {},
   "outputs": [
    {
     "name": "stdout",
     "output_type": "stream",
     "text": [
      "5\n",
      "Полеты совершались на дронах следующих моделей: DJI Inspire 2, DJI Mavic 2 Pro, DJI Mavic 2 Enterprise Advanced, DJI Mavic 3, DJI Mavic 2 Zoom\n"
     ]
    }
   ],
   "source": [
    "# TODO 2-2) Получите и выведите список всех моделей дронов, которые были в файле pilot_path.json\n",
    "# Подсказка: внутри print используйте str.join(), чтобы соединить элементы списка (множества)\n",
    "\n",
    "# РЕЗУЛЬТАТ:\n",
    "# Полеты совершались на дронах следующих моделей: DJI Mavic 2 Pro, DJI Mavic 3, DJI Inspire 2, DJI Mavic 2 Zoom, DJI Mavic 2 Enterprise Advanced\n",
    "\n",
    "# ВАШ КОД:\n",
    "result = list()\n",
    "\n",
    "for pilot in json_data:\n",
    "    for i in range(len(json_data[pilot]['missions'])):\n",
    "        if json_data[pilot]['missions'][i]['drone'] not in result:\n",
    "            result.append(json_data[pilot]['missions'][i]['drone'])\n",
    "\n",
    "print(len(result))\n",
    "\n",
    "\n",
    "# вывод результата (допишите код)\n",
    "print(f'Полеты совершались на дронах следующих моделей: {\", \".join(result)}')\n",
    "\n",
    "\n"
   ]
  },
  {
   "cell_type": "code",
   "execution_count": 28,
   "id": "ee68d599",
   "metadata": {},
   "outputs": [
    {
     "name": "stdout",
     "output_type": "stream",
     "text": [
      "Дрон DJI Inspire 2 отлетал 6 миссий\n",
      "Дрон DJI Mavic 2 Pro отлетал 6 миссий\n",
      "Дрон DJI Mavic 2 Enterprise Advanced отлетал 10 миссий\n",
      "Дрон DJI Mavic 3 отлетал 4 миссий\n",
      "Дрон DJI Mavic 2 Zoom отлетал 9 миссий\n"
     ]
    }
   ],
   "source": [
    "# TODO 2-3) Получите список миссий для каждой модели дронов, которые были в файле pilot_path.json,\n",
    "# и выведите на экран модель дрона и количество миссий, которые он отлетал\n",
    "\n",
    "# РЕЗУЛЬТАТ:\n",
    "# Дрон DJI Inspire 2 отлетал 6 миссий\n",
    "# Дрон DJI Mavic 2 Pro отлетал 6 миссий\n",
    "# Дрон DJI Mavic 2 Enterprise Advanced отлетал 10 миссий\n",
    "# Дрон DJI Mavic 3 отлетал 4 миссий\n",
    "# Дрон DJI Mavic 2 Zoom отлетал 9 миссий\n",
    "\n",
    "# ВАШ КОД:\n",
    "count_miss = {}\n",
    "\n",
    "for i in result:\n",
    "    count_miss[i] = 0\n",
    "\n",
    "for pilot in json_data:\n",
    "    for i in range(len(json_data[pilot]['missions'])):\n",
    "        count_miss[json_data[pilot]['missions'][i]['drone']] += 1\n",
    "\n",
    "# вывод результата (допишите код)\n",
    "for i in count_miss:\n",
    "    print(f'Дрон {i} отлетал {count_miss[i]} миссий')\n"
   ]
  },
  {
   "cell_type": "code",
   "execution_count": 29,
   "id": "7d5c5ab1",
   "metadata": {},
   "outputs": [],
   "source": [
    "# =====================================\n",
    "# ЗАДАНИЕ 3: Создание классов\n",
    "# =====================================\n",
    "# Для вас уже написаны заготовки классов Aircraft и UAV\n",
    "# TODO 3-1) Добавьте в класс UAV защищенный атрибут _=_missions (тип - список списков [[], []]), куда вы будете сохранять все миссии, которые отлетал беспилотник\n",
    "# TODO 3-2) При помощи декоратора @property сделайте возможность чтения и записи миссий в этот атрибут (лекция 8)\n",
    "# TODO 3-3) Создайте в классе UAV публичный метод count_missions, который возвращает количество миссий (лекция 7)\n",
    "# TODO 3-4) Создайте класс MultirotorUAV - наследник классов Aircraft и UAV (лекция 7)\n",
    "\n",
    "# ВАШ КОД (дополните то, что нужно в классах):\n",
    "from typing import List\n",
    "\n",
    "\n",
    "class Aircraft:\n",
    "\tdef __init__(self, weight):\n",
    "\t\tself._weight = weight\n",
    "\n",
    "class UAV:\n",
    "\tdef __init__(self):\n",
    "\t\tself._has_autopilot = True\n",
    "\n",
    "\t# напишите код для декоратора атрибута _missions\n",
    "\t@property\n",
    "\tdef missions(self) -> List[List[str]]:\n",
    "\t\treturn self._missions\n",
    "\t\n",
    "\t@missions.setter\n",
    "\tdef missions(self, mission: List[List[List[str]]]) -> None:\n",
    "\t\tif not hasattr(self, \"missions\"):\n",
    "\t\t\tself._missions: List[List[str]] = []\n",
    "\t\t\t\n",
    "\t\tif mission is not None:\n",
    "\t\t\tself._missions.extend(mission)\n",
    "\n",
    "\t@missions.deleter\n",
    "\tdef missions(self) -> None:\n",
    "\t\tself._missions.clear()\n",
    "\n",
    "\t# напишите публичный метод count_missions\n",
    "\tdef count_missions(self) -> int:\n",
    "\t\treturn len(self.missions)\n",
    "\n",
    "\n",
    "class MultirotorUAV(Aircraft, UAV):\n",
    "\tdef __init__(self, weight, model, brand):\n",
    "\t\tsuper().__init__(weight)\n",
    "\t\tUAV.__init__(self)\n",
    "\t\tself.__model = model\n",
    "\t\tself.__brand = brand\n",
    "\n",
    "\t# напишите публичный метод get_info\n",
    "\tdef get_info(self) -> None:\n",
    "\t\tprint(f'Информация о дроне {self.__model}: масса {self._weight}, производитель {self.__brand}, количество миссий {self.count_missions()}')\n",
    "\n",
    "\t# напишите публичный метод get_model\n",
    "\tdef get_model(self) -> None:\n",
    "\t\treturn self.__model\n"
   ]
  },
  {
   "cell_type": "code",
   "execution_count": 30,
   "id": "1cab7b80",
   "metadata": {},
   "outputs": [
    {
     "name": "stdout",
     "output_type": "stream",
     "text": [
      "Введите модель дрона (полностью) в любом регистре\n",
      "djI Inspire 2\n",
      "Информация о дроне DJI Inspire 2: масса 1500, производитель DJI, количество миссий 6\n"
     ]
    }
   ],
   "source": [
    "# =====================================\n",
    "# ЗАДАНИЕ 4: Работа с экземплярами классов\n",
    "# =====================================\n",
    "# TODO 4-1) Создайте экземпляры класса MultirotorUAV для всех моделей дронов, которые были в файле pilot_path.json\n",
    "# Подсказка: созданные экземпляры класса MultirotorUAV сохраните в список для последующего использования\n",
    "# TODO 4-2) При создании каждого экземпляра задайте ему как приватные атрибуты массу и производителя из справочника дронов drone_catalog в соответствии с моделью дрона\n",
    "# TODO 4-3) А также добавьте ему миссии, найденные для этой модели дрона на шаге 2-3\n",
    "# Напоминание: миссии находятся в атрибуте missions (с декоратором, и поэтому он публично доступен) в классе UAV\n",
    "\n",
    "# каталог дронов уже готов для вас:\n",
    "drone_catalog = {\n",
    "\t\"DJI Mavic 2 Pro\": {\"weight\":903, \"brand\":\"DJI\"},\n",
    "\t\"DJI Mavic 2 Zoom\": {\"weight\":900, \"brand\":\"DJI\"},\n",
    "\t\"DJI Mavic 2 Enterprise Advanced\": {\"weight\":920, \"brand\":\"DJI\"},\n",
    "\t\"DJI Inspire 2\": {\"weight\":1500, \"brand\":\"DJI\"},\n",
    "\t\"DJI Mavic 3\": {\"weight\":1000, \"brand\":\"DJI\"}\n",
    "}\n",
    "\n",
    "# ВАШ КОД:\n",
    "drones_list: List[MultirotorUAV] = list()\n",
    "\n",
    "for drone, info in drone_catalog.items():\n",
    "\tdrones_list.append(MultirotorUAV(info['weight'], drone, info['brand']))\n",
    "\n",
    "\n",
    "def get_missions_by_drone_name(data: dict, name: str) -> List[List[List[str]]]:\n",
    "\tmissions: List[List[List[str]]] = list()\n",
    "\n",
    "\tfor pilot_name in data:\n",
    "\t\tfor mission in data[pilot_name]['missions']:\n",
    "\t\t\tif mission['drone'] == name:\n",
    "\t\t\t\tmissions.append(mission['mission'])\n",
    "\t\n",
    "\treturn missions\n",
    "\n",
    "\n",
    "for index, drone in enumerate(drones_list):\n",
    "\tdrones_list[index].missions = get_missions_by_drone_name(data, drone.get_model())\n",
    "\n",
    "\n",
    "     \n",
    "\n",
    "# TODO 4-4\n",
    "# Напишите код, который выводит информацию по заданной модели дрона. Состав информации: масса, производитель, количество отлетанных миссий\n",
    "# (название модели пользователь вводит с клавиатуры в любом регистре, но без опечаток)\n",
    "# Подсказка: для этого вам необходимо вернуться в ЗАДАНИЕ 3 и добавить в класс два публичных метода: get_info(), который выводит нужную информацию,\n",
    "# и get_model, который позволит получить название модели дрона\n",
    "\n",
    "# РЕЗУЛЬТАТ:\n",
    "# Информация о дроне DJI Mavic 2 Pro: масса 903, производитель DJI, количество миссий 6\n",
    "\n",
    "# ВАШ КОД:\n",
    "user_unput = input(\"Введите модель дрона (полностью) в любом регистре\\n\")\n",
    "\n",
    "for drone in drones_list:\n",
    "\tif user_unput.lower() == drone.get_model().lower():\n",
    "\t\tdrone.get_info()\n",
    "     "
   ]
  },
  {
   "cell_type": "code",
   "execution_count": null,
   "id": "dffb357c",
   "metadata": {},
   "outputs": [],
   "source": []
  }
 ],
 "metadata": {
  "kernelspec": {
   "display_name": "Python 3 (ipykernel)",
   "language": "python",
   "name": "python3"
  },
  "language_info": {
   "codemirror_mode": {
    "name": "ipython",
    "version": 3
   },
   "file_extension": ".py",
   "mimetype": "text/x-python",
   "name": "python",
   "nbconvert_exporter": "python",
   "pygments_lexer": "ipython3",
   "version": "3.9.13"
  }
 },
 "nbformat": 4,
 "nbformat_minor": 5
}
