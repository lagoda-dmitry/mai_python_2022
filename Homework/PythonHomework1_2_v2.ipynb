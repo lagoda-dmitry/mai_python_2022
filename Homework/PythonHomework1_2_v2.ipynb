{
  "nbformat": 4,
  "nbformat_minor": 0,
  "metadata": {
    "colab": {
      "provenance": []
    },
    "kernelspec": {
      "name": "python3",
      "display_name": "Python 3"
    },
    "language_info": {
      "name": "python"
    }
  },
  "cells": [
    {
      "cell_type": "code",
      "source": [
        "\n",
        "drone_list = [\"DJI Mavic 2 Pro\", \"DJI Mavic 2 Zoom\", \"DJI Mavic 2 Enterprise Advanced\", \"AUTEL Evo II Pro\", \"DJI Mini 2\", \"Autel Evo Nano\", \"Autel Evo Lite Plus\", \"Parrot Anafi\", \"Dji Inspire 2\", \"DJI Mavic 3\", \"DJI Mavic Air2s\", \"Ryze Tello\", \"Eachine Trashcan\"]\n",
        "\n",
        "drone_weight_list = [903, 900, 920, 980, 249, 249, 600, 540, 1500, 1000, 570, 130, 110]\n",
        "#в drone по очереди попадает каждый дрон из списка drone_list\n",
        "for drone in drone_list:\n",
        "\tprint(drone)\n",
        "\n",
        "#TODO1\n",
        "\n",
        "#выведите все дроны производителя, название которого введет пользователь через input, и подсчитайте их количество. \n",
        "#учтите, что:\n",
        "#1) DJI и Dji - это один и тот же производитель! такие случаи тоже должны обрабатываться\n",
        "#2) при выводе исправьте название производителя, если допущена ошибка. правильный вариант названия: DJI, Autel\n",
        "\n",
        "x = input().lower()\n",
        "n = 0\n",
        "\n",
        "if x == 'dji':\n",
        "  b = x.upper()\n",
        "elif x == 'autel' or x == 'parrot' or x == 'ryze' or x == 'eachine':\n",
        "  b = x.title()\n",
        "\n",
        "for drone in drone_list:\n",
        "  if x in drone.lower():\n",
        "    i = len(x)+1\n",
        "    print(b, drone[i:])\n",
        "    n = n + 1\n",
        "\n",
        "if n == 0:\n",
        "  print('Таких дронов нет, либо неверное название производителя')\n",
        "\n",
        "print(f'Кол-во дронов производителя {b} : {n}')\n",
        "\n"
      ],
      "metadata": {
        "colab": {
          "base_uri": "https://localhost:8080/"
        },
        "id": "tuC_8yz3ivE9",
        "outputId": "0e2809c7-6a47-446b-f7c5-667c8b53e332"
      },
      "execution_count": 5,
      "outputs": [
        {
          "output_type": "stream",
          "name": "stdout",
          "text": [
            "DJI Mavic 2 Pro\n",
            "DJI Mavic 2 Zoom\n",
            "DJI Mavic 2 Enterprise Advanced\n",
            "AUTEL Evo II Pro\n",
            "DJI Mini 2\n",
            "Autel Evo Nano\n",
            "Autel Evo Lite Plus\n",
            "Parrot Anafi\n",
            "Dji Inspire 2\n",
            "DJI Mavic 3\n",
            "DJI Mavic Air2s\n",
            "Ryze Tello\n",
            "Eachine Trashcan\n",
            "DJI\n",
            "DJI Mavic 2 Pro\n",
            "DJI Mavic 2 Zoom\n",
            "DJI Mavic 2 Enterprise Advanced\n",
            "DJI Mini 2\n",
            "DJI Inspire 2\n",
            "DJI Mavic 3\n",
            "DJI Mavic Air2s\n",
            "Кол-во дронов производителя DJI : 7\n"
          ]
        }
      ]
    },
    {
      "cell_type": "code",
      "source": [
        "#TODO2\n",
        "#подсчитайте количество моделей дронов каждого производителя из списка drone_list. производители: DJI, Autel, Parrot, Ryze, Eachine\n",
        "unique_list = ['DJI', 'Autel', 'Parrot', 'Ryze', 'Eachine']\n",
        "\n",
        "for unique in unique_list:\n",
        "  n = 0\n",
        "  for drone in drone_list:\n",
        "    if unique.lower() in drone.lower():\n",
        "      #print(drone)\n",
        "      n = n + 1\n",
        "  print(f'Дронов производителя {unique}: {n}')\n",
        "\n",
        "\n"
      ],
      "metadata": {
        "colab": {
          "base_uri": "https://localhost:8080/"
        },
        "id": "Ix0DBvaejFAn",
        "outputId": "9249f20c-5637-465f-d214-a937d6baaf7f"
      },
      "execution_count": 6,
      "outputs": [
        {
          "output_type": "stream",
          "name": "stdout",
          "text": [
            "Дронов производителя DJI: 7\n",
            "Дронов производителя Autel: 3\n",
            "Дронов производителя Parrot: 1\n",
            "Дронов производителя Ryze: 1\n",
            "Дронов производителя Eachine: 1\n"
          ]
        }
      ]
    },
    {
      "cell_type": "code",
      "source": [
        "#TODO3\n",
        "#выведите все дроны из списка, которые нужно регистрировать (масса больше 150 г), и подсчитайте их количество. \n",
        "#сделайте то же самое для всех дронов, которые не нужно регистрировать\n",
        "#для этого вам нужно параллельно обрабатывать два списка: drone_list и drone_weight_list:\n",
        "#как работает zip, мы разберем на лекции про списки. пока что просто пользуйтесь\n",
        "print('Нужно зарегистрировать:')\n",
        "n = 0\n",
        "for drone, weight in zip(drone_list,  drone_weight_list):\n",
        "  if weight > 150:\n",
        "    print(drone, weight)\n",
        "    n = n + 1\n",
        "print('Итого:', n, '\\n')\n",
        "\n",
        "print('Не нужно регистрировать:')\n",
        "n = 0\n",
        "for drone, weight in zip(drone_list,  drone_weight_list):\n",
        "  if weight <= 150:\n",
        "    print(drone, weight)\n",
        "    n = n + 1\n",
        "print('Итого:', n)"
      ],
      "metadata": {
        "colab": {
          "base_uri": "https://localhost:8080/"
        },
        "id": "XpgHVSFNjGDm",
        "outputId": "79b4ce5f-c68a-4805-e016-e3c289aa5b7f"
      },
      "execution_count": 7,
      "outputs": [
        {
          "output_type": "stream",
          "name": "stdout",
          "text": [
            "Нужно зарегистрировать:\n",
            "DJI Mavic 2 Pro 903\n",
            "DJI Mavic 2 Zoom 900\n",
            "DJI Mavic 2 Enterprise Advanced 920\n",
            "AUTEL Evo II Pro 980\n",
            "DJI Mini 2 249\n",
            "Autel Evo Nano 249\n",
            "Autel Evo Lite Plus 600\n",
            "Parrot Anafi 540\n",
            "Dji Inspire 2 1500\n",
            "DJI Mavic 3 1000\n",
            "DJI Mavic Air2s 570\n",
            "Итого: 11 \n",
            "\n",
            "Не нужно регистрировать:\n",
            "Ryze Tello 130\n",
            "Eachine Trashcan 110\n",
            "Итого: 2\n"
          ]
        }
      ]
    },
    {
      "cell_type": "code",
      "source": [
        "\n",
        "\n",
        "#TODO4\n",
        "#для каждого дрона из списка выведите, нудно ли согласовывать полет при следующих условиях:\n",
        "#высота 100 м, полет над населенным пунктом, вне закрытых зон, в прямой видимости\n",
        "#помните, что для дронов тяжелее 150 г согласовывать полет над населенным пунктом - обязательно!\n",
        "height = 110\n",
        "above = True\n",
        "outside_of_closed_areas = False\n",
        "direct_see = True\n",
        "\n",
        "for drone, weight in zip(drone_list,  drone_weight_list):\n",
        "    if (weight > 150 and above) or (height <= 100 and above and not outside_of_closed_areas and not direct_see):\n",
        "        print('Нужно согласовывать',drone)\n",
        "    else:\n",
        "        print('Можно не согласовывать',drone)\n",
        "\n",
        "\n"
      ],
      "metadata": {
        "colab": {
          "base_uri": "https://localhost:8080/"
        },
        "id": "mqu-7dtCh-iN",
        "outputId": "5b609e42-f1ba-4532-9265-93b0da5e26bd"
      },
      "execution_count": 8,
      "outputs": [
        {
          "output_type": "stream",
          "name": "stdout",
          "text": [
            "Нужно согласовывать DJI Mavic 2 Pro\n",
            "Нужно согласовывать DJI Mavic 2 Zoom\n",
            "Нужно согласовывать DJI Mavic 2 Enterprise Advanced\n",
            "Нужно согласовывать AUTEL Evo II Pro\n",
            "Нужно согласовывать DJI Mini 2\n",
            "Нужно согласовывать Autel Evo Nano\n",
            "Нужно согласовывать Autel Evo Lite Plus\n",
            "Нужно согласовывать Parrot Anafi\n",
            "Нужно согласовывать Dji Inspire 2\n",
            "Нужно согласовывать DJI Mavic 3\n",
            "Нужно согласовывать DJI Mavic Air2s\n",
            "Можно не согласовывать Ryze Tello\n",
            "Можно не согласовывать Eachine Trashcan\n"
          ]
        }
      ]
    },
    {
      "cell_type": "code",
      "source": [
        "\n",
        "#TODO5*\n",
        "#модифицируйте решение задания TODO1:\n",
        "#теперь для введенного пользователем производителя вы должны вывести строку, содержащую перечисление моделей и БЕЗ названия производителя.\n",
        "#например, пользователь ввел \"Autel\". ваша программа должна вывести вот такой результат: \"Evo II Pro, Evo Nano, Evo Lite Plus\". для этого вам понадобится несколько функций работы со строками. решить эту задачу можно несколькими разными способами\n",
        "#производители те же: DJI, Autel, Parrot, Ryze, Eachine\n",
        "\n",
        "user_drone_supplier = input()\n",
        "\n",
        "for drone_model in drone_list:\n",
        "    if user_drone_supplier.upper() in drone_model.upper():\n",
        "        print(''.join(str(x + ' ') for x in drone_model.split(' ')[1:]))\n"
      ],
      "metadata": {
        "colab": {
          "base_uri": "https://localhost:8080/"
        },
        "id": "Dqz90gD9i3P_",
        "outputId": "46e10090-b84f-42ec-f344-d7839eedbb25"
      },
      "execution_count": 4,
      "outputs": [
        {
          "output_type": "stream",
          "name": "stdout",
          "text": [
            "Autel\n",
            "Evo II Pro \n",
            "Evo Nano \n",
            "Evo Lite Plus \n"
          ]
        }
      ]
    }
  ]
}